{
 "cells": [
  {
   "cell_type": "markdown",
   "metadata": {},
   "source": [
    "# Introduction to Notebooks"
   ]
  },
  {
   "cell_type": "markdown",
   "metadata": {},
   "source": [
    "[Based on https://github.com/googledatalab/notebooks]\n",
    "\n",
    "If you're new to the idea of notebooks, this introduction should cover the basics to get you started."
   ]
  },
  {
   "cell_type": "markdown",
   "metadata": {},
   "source": [
    "# Notebook Basics"
   ]
  },
  {
   "cell_type": "markdown",
   "metadata": {},
   "source": [
    "## Notebooks\n",
    "\n",
    "A _notebook_ is essentially a source artifact, saved as a .ipynb file - it can contain descriptive text content, executable code blocks, and associated results (rendered as interactive HTML). Structurally, a notebook is a sequence of cells."
   ]
  },
  {
   "cell_type": "markdown",
   "metadata": {},
   "source": [
    "## Cells\n",
    "\n",
    "A _cell_ is a block of input text that is evaluated to produce results. Cells can be of two types:\n",
    "\n",
    "* **Code cells** - contain code to evaluate. Any outputs or results from executing the code are rendered inline after the input code.\n",
    "\n",
    "* **Markdown cells** - contain markdown text that is converted to HTML to produce headers, lists and formatted text (like this content).\n"
   ]
  },
  {
   "cell_type": "markdown",
   "metadata": {
    "collapsed": true
   },
   "source": [
    "## Sessions\n",
    "\n",
    "Each opened notebook is associated with a running _session_. This is also referred to as a _kernel_. This session is used to execute all the code entered within the notebook, and manages the state (variables you've created, their values, functions and classes you've defined, and any existing Python modules you've loaded).\n",
    "\n",
    "You can use the `Kernel->Restart` command on the menubar, above, to restart the session and start running code against a clean slate. If your notebook gets disconnected from the session, you can reconnect or recreate it by refreshing the page."
   ]
  },
  {
   "cell_type": "markdown",
   "metadata": {},
   "source": [
    "# Working in Notebooks"
   ]
  },
  {
   "cell_type": "markdown",
   "metadata": {},
   "source": [
    "## Editing Cells\n",
    "\n",
    "Cells can be individually selected, and up/down keys can be used to navigate the notebook. Once you have the appropriate cell selected, you can switch into edit mode either via the `Enter` key or a double click gesture.\n",
    "\n",
    "When you are done editing the cell, you can toggle markdown cells back into rendered mode and execute code cells to produce results, either using the `Run` button or via the `Shift+Enter` key stroke. This automatically moves the selection to the next cell. Use `Ctrl+Enter` to stay on the current cell.\n",
    "\n",
    "**Let's try some of this.** Following is a markdown cell, and then a code cell with Python code (and results) ready to be re-run, and an empty code cell for you to try something on your own."
   ]
  },
  {
   "cell_type": "markdown",
   "metadata": {},
   "source": [
    "[Here is a markdown cell. Go ahead... double click here to modify this text.]"
   ]
  },
  {
   "cell_type": "code",
   "execution_count": 1,
   "metadata": {
    "collapsed": false
   },
   "outputs": [
    {
     "name": "stdout",
     "output_type": "stream",
     "text": [
      "Hello World! Welcome to Notebooks!\n"
     ]
    }
   ],
   "source": [
    "def greet():\n",
    "    print('Hello World! Welcome to Notebooks!')\n",
    "    \n",
    "greet()"
   ]
  },
  {
   "cell_type": "markdown",
   "metadata": {},
   "source": [
    "## Editing Notebooks\n",
    "\n",
    "In addition to working within a cell, you can add new cells, delete cells, reorder cells or clear past results to organize your notebook content, or complete your task at hand. These editing capabilities are provided by the toolbar above, as well as via equivalent keystroke shortcuts.\n",
    "\n",
    "Notebooks are automatically saved periodically. However you can choose to save the notebook at any point."
   ]
  },
  {
   "cell_type": "markdown",
   "metadata": {},
   "source": [
    "## Code\n",
    "\n",
    "A notebook provides an environment to write and execute code. Pycalphad and ESPEI users will most often write Python code to work with your calculations. You've already seen a little bit of that above.\n",
    "\n",
    "Jupyter also introduces the ability to use shell commands. This capability allows you to issue command-like instructions in the same notebook. These code cells start with an escape sequence, `!`, which instructs the session to treat the content of the cell as something other than Python. Here's an example of invoking a shell command."
   ]
  },
  {
   "cell_type": "code",
   "execution_count": 2,
   "metadata": {
    "collapsed": false
   },
   "outputs": [
    {
     "name": "stdout",
     "output_type": "stream",
     "text": [
      "total 2484\r\n",
      "drwxrwxr-x  6 rotis rotis    4096 May 23 10:08 .\r\n",
      "drwxrwxr-x 21 rotis rotis    4096 May 18 12:17 ..\r\n",
      "-rw-rw-r--  1 rotis rotis    7014 May 23 10:08 00 Introduction to Notebooks.ipynb\r\n",
      "-rw-rw-r--  1 rotis rotis   83298 May 22 08:37 01 Introduction to Python.ipynb\r\n",
      "-rw-rw-r--  1 rotis rotis 1755099 May 22 08:45 02 Matplotlib.ipynb\r\n",
      "-rw-rw-r--  1 rotis rotis   22424 May 22 11:58 03 pycalphad Plot Activity.ipynb\r\n",
      "-rw-rw-r--  1 rotis rotis  251001 May 22 12:00 04 pycalphad Binary Phase Diagram.ipynb\r\n",
      "-rw-rw-r--  1 rotis rotis   13276 May 22 12:00 05 pycalphad Calculation Results.ipynb\r\n",
      "-rw-rw-r--  1 rotis rotis    4972 May 22 12:01 alzn_mey.tdb\r\n",
      "drwxrwxr-x  2 rotis rotis    4096 May 22 12:02 constructor\r\n",
      "drwxrwxr-x  3 rotis rotis    4096 May 22 12:02 espei\r\n",
      "drwxrwxr-x  8 rotis rotis    4096 May 23 10:00 .git\r\n",
      "-rw-rw-r--  1 rotis rotis    1157 May 18 12:17 .gitignore\r\n",
      "drwxr-xr-x  2 rotis rotis    4096 May 23 10:02 .ipynb_checkpoints\r\n",
      "-rw-rw-r--  1 rotis rotis    1057 May 18 12:17 LICENSE\r\n",
      "-rw-rw-r--  1 rotis rotis    1789 May 18 12:17 outline.md\r\n",
      "-rw-rw-r--  1 rotis rotis      23 May 18 12:17 README.md\r\n",
      "-rw-rw-r--  1 rotis rotis  344558 May 18 12:17 ViscosityModeling.ipynb\r\n"
     ]
    }
   ],
   "source": [
    "!ls -al"
   ]
  },
  {
   "cell_type": "markdown",
   "metadata": {},
   "source": [
    "# User Interface\n",
    "\n",
    "The Jupyter Notebook user interface is composed of two screens:\n",
    "\n",
    "* a notebook page (like this one), where you'll spend most of your time authoring notebook content and running code\n",
    "* a notebook list page (where you started from), where you'll manage your list of notebooks and active notebook sessions."
   ]
  },
  {
   "cell_type": "markdown",
   "metadata": {},
   "source": [
    "### Toolbar\n",
    "\n",
    "The notebook toolbar allows you to work with your notebook, for example, to save or rename the file, or download it and convert it another format, such as HTML. The rest of the toolbar commands allow you to modify and run the notebook."
   ]
  },
  {
   "cell_type": "code",
   "execution_count": null,
   "metadata": {
    "collapsed": true
   },
   "outputs": [],
   "source": []
  }
 ],
 "metadata": {
  "kernelspec": {
   "display_name": "Python 3",
   "language": "python",
   "name": "python3"
  },
  "language_info": {
   "codemirror_mode": {
    "name": "ipython",
    "version": 3
   },
   "file_extension": ".py",
   "mimetype": "text/x-python",
   "name": "python",
   "nbconvert_exporter": "python",
   "pygments_lexer": "ipython3",
   "version": "3.5.2"
  }
 },
 "nbformat": 4,
 "nbformat_minor": 0
}
